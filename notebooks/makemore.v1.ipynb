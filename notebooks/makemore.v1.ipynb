{
 "cells": [
  {
   "cell_type": "code",
   "execution_count": 1,
   "id": "e1560d15",
   "metadata": {},
   "outputs": [],
   "source": [
    "import torch\n",
    "import regex as re\n",
    "import pandas as pd\n",
    "import torch.nn.functional as F\n",
    "import matplotlib.pyplot as plt"
   ]
  },
  {
   "cell_type": "code",
   "execution_count": 3,
   "id": "bbe2ca62",
   "metadata": {},
   "outputs": [],
   "source": [
    "device = 'cuda' if torch.cuda.is_available() else 'cpu'"
   ]
  },
  {
   "cell_type": "code",
   "execution_count": 4,
   "id": "ebbe9455",
   "metadata": {},
   "outputs": [
    {
     "ename": "KeyboardInterrupt",
     "evalue": "",
     "output_type": "error",
     "traceback": [
      "\u001b[1;31m---------------------------------------------------------------------------\u001b[0m",
      "\u001b[1;31mKeyboardInterrupt\u001b[0m                         Traceback (most recent call last)",
      "Cell \u001b[1;32mIn[4], line 1\u001b[0m\n\u001b[1;32m----> 1\u001b[0m companies \u001b[38;5;241m=\u001b[39m \u001b[43mpd\u001b[49m\u001b[38;5;241;43m.\u001b[39;49m\u001b[43mread_csv\u001b[49m\u001b[43m(\u001b[49m\u001b[38;5;124;43m'\u001b[39;49m\u001b[38;5;124;43m../data/companies_sorted.csv\u001b[39;49m\u001b[38;5;124;43m'\u001b[39;49m\u001b[43m)\u001b[49m\n",
      "File \u001b[1;32mc:\\Users\\Ihor\\anaconda3\\envs\\makemore\\Lib\\site-packages\\pandas\\io\\parsers\\readers.py:1026\u001b[0m, in \u001b[0;36mread_csv\u001b[1;34m(filepath_or_buffer, sep, delimiter, header, names, index_col, usecols, dtype, engine, converters, true_values, false_values, skipinitialspace, skiprows, skipfooter, nrows, na_values, keep_default_na, na_filter, verbose, skip_blank_lines, parse_dates, infer_datetime_format, keep_date_col, date_parser, date_format, dayfirst, cache_dates, iterator, chunksize, compression, thousands, decimal, lineterminator, quotechar, quoting, doublequote, escapechar, comment, encoding, encoding_errors, dialect, on_bad_lines, delim_whitespace, low_memory, memory_map, float_precision, storage_options, dtype_backend)\u001b[0m\n\u001b[0;32m   1013\u001b[0m kwds_defaults \u001b[38;5;241m=\u001b[39m _refine_defaults_read(\n\u001b[0;32m   1014\u001b[0m     dialect,\n\u001b[0;32m   1015\u001b[0m     delimiter,\n\u001b[1;32m   (...)\u001b[0m\n\u001b[0;32m   1022\u001b[0m     dtype_backend\u001b[38;5;241m=\u001b[39mdtype_backend,\n\u001b[0;32m   1023\u001b[0m )\n\u001b[0;32m   1024\u001b[0m kwds\u001b[38;5;241m.\u001b[39mupdate(kwds_defaults)\n\u001b[1;32m-> 1026\u001b[0m \u001b[38;5;28;01mreturn\u001b[39;00m \u001b[43m_read\u001b[49m\u001b[43m(\u001b[49m\u001b[43mfilepath_or_buffer\u001b[49m\u001b[43m,\u001b[49m\u001b[43m \u001b[49m\u001b[43mkwds\u001b[49m\u001b[43m)\u001b[49m\n",
      "File \u001b[1;32mc:\\Users\\Ihor\\anaconda3\\envs\\makemore\\Lib\\site-packages\\pandas\\io\\parsers\\readers.py:626\u001b[0m, in \u001b[0;36m_read\u001b[1;34m(filepath_or_buffer, kwds)\u001b[0m\n\u001b[0;32m    623\u001b[0m     \u001b[38;5;28;01mreturn\u001b[39;00m parser\n\u001b[0;32m    625\u001b[0m \u001b[38;5;28;01mwith\u001b[39;00m parser:\n\u001b[1;32m--> 626\u001b[0m     \u001b[38;5;28;01mreturn\u001b[39;00m \u001b[43mparser\u001b[49m\u001b[38;5;241;43m.\u001b[39;49m\u001b[43mread\u001b[49m\u001b[43m(\u001b[49m\u001b[43mnrows\u001b[49m\u001b[43m)\u001b[49m\n",
      "File \u001b[1;32mc:\\Users\\Ihor\\anaconda3\\envs\\makemore\\Lib\\site-packages\\pandas\\io\\parsers\\readers.py:1923\u001b[0m, in \u001b[0;36mTextFileReader.read\u001b[1;34m(self, nrows)\u001b[0m\n\u001b[0;32m   1916\u001b[0m nrows \u001b[38;5;241m=\u001b[39m validate_integer(\u001b[38;5;124m\"\u001b[39m\u001b[38;5;124mnrows\u001b[39m\u001b[38;5;124m\"\u001b[39m, nrows)\n\u001b[0;32m   1917\u001b[0m \u001b[38;5;28;01mtry\u001b[39;00m:\n\u001b[0;32m   1918\u001b[0m     \u001b[38;5;66;03m# error: \"ParserBase\" has no attribute \"read\"\u001b[39;00m\n\u001b[0;32m   1919\u001b[0m     (\n\u001b[0;32m   1920\u001b[0m         index,\n\u001b[0;32m   1921\u001b[0m         columns,\n\u001b[0;32m   1922\u001b[0m         col_dict,\n\u001b[1;32m-> 1923\u001b[0m     ) \u001b[38;5;241m=\u001b[39m \u001b[38;5;28;43mself\u001b[39;49m\u001b[38;5;241;43m.\u001b[39;49m\u001b[43m_engine\u001b[49m\u001b[38;5;241;43m.\u001b[39;49m\u001b[43mread\u001b[49m\u001b[43m(\u001b[49m\u001b[43m  \u001b[49m\u001b[38;5;66;43;03m# type: ignore[attr-defined]\u001b[39;49;00m\n\u001b[0;32m   1924\u001b[0m \u001b[43m        \u001b[49m\u001b[43mnrows\u001b[49m\n\u001b[0;32m   1925\u001b[0m \u001b[43m    \u001b[49m\u001b[43m)\u001b[49m\n\u001b[0;32m   1926\u001b[0m \u001b[38;5;28;01mexcept\u001b[39;00m \u001b[38;5;167;01mException\u001b[39;00m:\n\u001b[0;32m   1927\u001b[0m     \u001b[38;5;28mself\u001b[39m\u001b[38;5;241m.\u001b[39mclose()\n",
      "File \u001b[1;32mc:\\Users\\Ihor\\anaconda3\\envs\\makemore\\Lib\\site-packages\\pandas\\io\\parsers\\c_parser_wrapper.py:234\u001b[0m, in \u001b[0;36mCParserWrapper.read\u001b[1;34m(self, nrows)\u001b[0m\n\u001b[0;32m    232\u001b[0m \u001b[38;5;28;01mtry\u001b[39;00m:\n\u001b[0;32m    233\u001b[0m     \u001b[38;5;28;01mif\u001b[39;00m \u001b[38;5;28mself\u001b[39m\u001b[38;5;241m.\u001b[39mlow_memory:\n\u001b[1;32m--> 234\u001b[0m         chunks \u001b[38;5;241m=\u001b[39m \u001b[38;5;28;43mself\u001b[39;49m\u001b[38;5;241;43m.\u001b[39;49m\u001b[43m_reader\u001b[49m\u001b[38;5;241;43m.\u001b[39;49m\u001b[43mread_low_memory\u001b[49m\u001b[43m(\u001b[49m\u001b[43mnrows\u001b[49m\u001b[43m)\u001b[49m\n\u001b[0;32m    235\u001b[0m         \u001b[38;5;66;03m# destructive to chunks\u001b[39;00m\n\u001b[0;32m    236\u001b[0m         data \u001b[38;5;241m=\u001b[39m _concatenate_chunks(chunks)\n",
      "File \u001b[1;32mparsers.pyx:838\u001b[0m, in \u001b[0;36mpandas._libs.parsers.TextReader.read_low_memory\u001b[1;34m()\u001b[0m\n",
      "File \u001b[1;32mparsers.pyx:905\u001b[0m, in \u001b[0;36mpandas._libs.parsers.TextReader._read_rows\u001b[1;34m()\u001b[0m\n",
      "File \u001b[1;32mparsers.pyx:874\u001b[0m, in \u001b[0;36mpandas._libs.parsers.TextReader._tokenize_rows\u001b[1;34m()\u001b[0m\n",
      "File \u001b[1;32mparsers.pyx:891\u001b[0m, in \u001b[0;36mpandas._libs.parsers.TextReader._check_tokenize_status\u001b[1;34m()\u001b[0m\n",
      "File \u001b[1;32mparsers.pyx:2053\u001b[0m, in \u001b[0;36mpandas._libs.parsers.raise_parser_error\u001b[1;34m()\u001b[0m\n",
      "File \u001b[1;32mc:\\Users\\Ihor\\anaconda3\\envs\\makemore\\Lib\\codecs.py:331\u001b[0m, in \u001b[0;36mBufferedIncrementalDecoder.getstate\u001b[1;34m(self)\u001b[0m\n\u001b[0;32m    328\u001b[0m     IncrementalDecoder\u001b[38;5;241m.\u001b[39mreset(\u001b[38;5;28mself\u001b[39m)\n\u001b[0;32m    329\u001b[0m     \u001b[38;5;28mself\u001b[39m\u001b[38;5;241m.\u001b[39mbuffer \u001b[38;5;241m=\u001b[39m \u001b[38;5;124mb\u001b[39m\u001b[38;5;124m\"\u001b[39m\u001b[38;5;124m\"\u001b[39m\n\u001b[1;32m--> 331\u001b[0m \u001b[38;5;28;01mdef\u001b[39;00m \u001b[38;5;21mgetstate\u001b[39m(\u001b[38;5;28mself\u001b[39m):\n\u001b[0;32m    332\u001b[0m     \u001b[38;5;66;03m# additional state info is always 0\u001b[39;00m\n\u001b[0;32m    333\u001b[0m     \u001b[38;5;28;01mreturn\u001b[39;00m (\u001b[38;5;28mself\u001b[39m\u001b[38;5;241m.\u001b[39mbuffer, \u001b[38;5;241m0\u001b[39m)\n\u001b[0;32m    335\u001b[0m \u001b[38;5;28;01mdef\u001b[39;00m \u001b[38;5;21msetstate\u001b[39m(\u001b[38;5;28mself\u001b[39m, state):\n\u001b[0;32m    336\u001b[0m     \u001b[38;5;66;03m# ignore additional state info\u001b[39;00m\n",
      "\u001b[1;31mKeyboardInterrupt\u001b[0m: "
     ]
    }
   ],
   "source": [
    "companies = pd.read_csv('../data/companies_sorted.csv')"
   ]
  },
  {
   "cell_type": "code",
   "execution_count": 7,
   "id": "a69027b9",
   "metadata": {},
   "outputs": [
    {
     "ename": "NameError",
     "evalue": "name 'companies' is not defined",
     "output_type": "error",
     "traceback": [
      "\u001b[1;31m---------------------------------------------------------------------------\u001b[0m",
      "\u001b[1;31mNameError\u001b[0m                                 Traceback (most recent call last)",
      "Cell \u001b[1;32mIn[7], line 1\u001b[0m\n\u001b[1;32m----> 1\u001b[0m companies \u001b[38;5;241m=\u001b[39m \u001b[43mcompanies\u001b[49m[\u001b[38;5;124m'\u001b[39m\u001b[38;5;124mname\u001b[39m\u001b[38;5;124m'\u001b[39m]\u001b[38;5;241m.\u001b[39mastype(\u001b[38;5;28mstr\u001b[39m)\u001b[38;5;241m.\u001b[39mtolist()\n",
      "\u001b[1;31mNameError\u001b[0m: name 'companies' is not defined"
     ]
    }
   ],
   "source": [
    "companies = companies['name'].astype(str).tolist()"
   ]
  },
  {
   "cell_type": "code",
   "execution_count": 8,
   "id": "e1f2ab3c",
   "metadata": {},
   "outputs": [
    {
     "ename": "NameError",
     "evalue": "name 'companies' is not defined",
     "output_type": "error",
     "traceback": [
      "\u001b[1;31m---------------------------------------------------------------------------\u001b[0m",
      "\u001b[1;31mNameError\u001b[0m                                 Traceback (most recent call last)",
      "Cell \u001b[1;32mIn[8], line 1\u001b[0m\n\u001b[1;32m----> 1\u001b[0m companies \u001b[38;5;241m=\u001b[39m [company\u001b[38;5;241m.\u001b[39mstrip() \u001b[38;5;28;01mfor\u001b[39;00m company \u001b[38;5;129;01min\u001b[39;00m \u001b[43mcompanies\u001b[49m \u001b[38;5;28;01mif\u001b[39;00m re\u001b[38;5;241m.\u001b[39mfullmatch(\u001b[38;5;124mr\u001b[39m\u001b[38;5;124m\"\u001b[39m\u001b[38;5;124m[A-Za-z]+\u001b[39m\u001b[38;5;124m\"\u001b[39m, company) \u001b[38;5;129;01mand\u001b[39;00m company\u001b[38;5;241m.\u001b[39mupper() \u001b[38;5;241m==\u001b[39m company\u001b[38;5;241m.\u001b[39mstrip()\u001b[38;5;241m.\u001b[39mupper()]\n",
      "\u001b[1;31mNameError\u001b[0m: name 'companies' is not defined"
     ]
    }
   ],
   "source": [
    "companies = [company.strip() for company in companies if re.fullmatch(r\"[A-Za-z]+\", company) and company.upper() == company.strip().upper()]"
   ]
  },
  {
   "cell_type": "code",
   "execution_count": 9,
   "id": "c4f3aaae",
   "metadata": {},
   "outputs": [],
   "source": [
    "N = torch.zeros((27, 27), dtype=torch.int32).to(device)"
   ]
  },
  {
   "cell_type": "code",
   "execution_count": 10,
   "id": "27442e30",
   "metadata": {},
   "outputs": [
    {
     "ename": "NameError",
     "evalue": "name 'companies' is not defined",
     "output_type": "error",
     "traceback": [
      "\u001b[1;31m---------------------------------------------------------------------------\u001b[0m",
      "\u001b[1;31mNameError\u001b[0m                                 Traceback (most recent call last)",
      "Cell \u001b[1;32mIn[10], line 1\u001b[0m\n\u001b[1;32m----> 1\u001b[0m chars \u001b[38;5;241m=\u001b[39m \u001b[38;5;28msorted\u001b[39m(\u001b[38;5;28mlist\u001b[39m(\u001b[38;5;28mset\u001b[39m(\u001b[38;5;124m'\u001b[39m\u001b[38;5;124m'\u001b[39m\u001b[38;5;241m.\u001b[39mjoin(\u001b[43mcompanies\u001b[49m))))\n\u001b[0;32m      3\u001b[0m stoi \u001b[38;5;241m=\u001b[39m {s : i \u001b[38;5;241m+\u001b[39m \u001b[38;5;241m1\u001b[39m \u001b[38;5;28;01mfor\u001b[39;00m i, s \u001b[38;5;129;01min\u001b[39;00m \u001b[38;5;28menumerate\u001b[39m(chars)}\n\u001b[0;32m      4\u001b[0m stoi[\u001b[38;5;124m'\u001b[39m\u001b[38;5;124m.\u001b[39m\u001b[38;5;124m'\u001b[39m] \u001b[38;5;241m=\u001b[39m \u001b[38;5;241m0\u001b[39m\n",
      "\u001b[1;31mNameError\u001b[0m: name 'companies' is not defined"
     ]
    }
   ],
   "source": [
    "chars = sorted(list(set(''.join(companies))))\n",
    "\n",
    "stoi = {s : i + 1 for i, s in enumerate(chars)}\n",
    "stoi['.'] = 0\n",
    "\n",
    "\n",
    "itos = {i:s for s, i in stoi.items()}"
   ]
  },
  {
   "cell_type": "code",
   "execution_count": null,
   "id": "71b001d9",
   "metadata": {},
   "outputs": [],
   "source": [
    "for c in companies:\n",
    "    chs = ['.'] + list(c) + ['.']\n",
    "    \n",
    "    for ch1, ch2 in zip(chs, chs[1:]):\n",
    "        ix1 = stoi[ch1]\n",
    "        ix2 = stoi[ch2]\n",
    "        N[ix1, ix2] += 1"
   ]
  },
  {
   "cell_type": "code",
   "execution_count": 6,
   "id": "02fa03bb",
   "metadata": {},
   "outputs": [
    {
     "ename": "NameError",
     "evalue": "name 'N' is not defined",
     "output_type": "error",
     "traceback": [
      "\u001b[1;31m---------------------------------------------------------------------------\u001b[0m",
      "\u001b[1;31mNameError\u001b[0m                                 Traceback (most recent call last)",
      "Cell \u001b[1;32mIn[6], line 1\u001b[0m\n\u001b[1;32m----> 1\u001b[0m P \u001b[38;5;241m=\u001b[39m (\u001b[43mN\u001b[49m\u001b[38;5;241m+\u001b[39m\u001b[38;5;241m1\u001b[39m)\u001b[38;5;241m.\u001b[39mfloat()\n\u001b[0;32m      2\u001b[0m P \u001b[38;5;241m/\u001b[39m\u001b[38;5;241m=\u001b[39m P\u001b[38;5;241m.\u001b[39msum(\u001b[38;5;241m1\u001b[39m, keepdim\u001b[38;5;241m=\u001b[39m\u001b[38;5;28;01mTrue\u001b[39;00m)\n",
      "\u001b[1;31mNameError\u001b[0m: name 'N' is not defined"
     ]
    }
   ],
   "source": [
    "P = (N+1).float()\n",
    "P /= P.sum(1, keepdim=True)"
   ]
  },
  {
   "cell_type": "code",
   "execution_count": 5,
   "id": "7a06d5ae",
   "metadata": {},
   "outputs": [
    {
     "ename": "NameError",
     "evalue": "name 'P' is not defined",
     "output_type": "error",
     "traceback": [
      "\u001b[1;31m---------------------------------------------------------------------------\u001b[0m",
      "\u001b[1;31mNameError\u001b[0m                                 Traceback (most recent call last)",
      "Cell \u001b[1;32mIn[5], line 1\u001b[0m\n\u001b[1;32m----> 1\u001b[0m \u001b[43mP\u001b[49m\n",
      "\u001b[1;31mNameError\u001b[0m: name 'P' is not defined"
     ]
    }
   ],
   "source": [
    "P"
   ]
  },
  {
   "cell_type": "code",
   "execution_count": 52,
   "id": "079bf5fc",
   "metadata": {},
   "outputs": [
    {
     "data": {
      "text/plain": [
       "tensor([[    0, 60090, 40307, 59166, 32007, 37989, 28739, 25497, 20875, 38716,\n",
       "          9184, 18517, 24671, 50201, 23621, 17535, 43985,  5249, 25351, 72564,\n",
       "         42708, 10164, 20093, 20503,  3184,  5252,  6769],\n",
       "        [67615,  6354, 17526, 30321, 25083,  4035,  9395, 16214,  3239, 15868,\n",
       "          1591,  9443, 52782, 26347, 59994,  1449, 21465,  1858, 68271, 34478,\n",
       "         42600,  9497, 11538,  4276,  5332, 10486,  4888],\n",
       "        [10732, 17242,  2488,  2101,  1035, 19185,   530,   552,   666, 18671,\n",
       "           363,   364, 10580,  1185,   674, 16762,   874,   104, 12745,  4923,\n",
       "          1324,  8501,   450,   476,   180,  2759,   336],\n",
       "        [22589, 34356,   999,  4969,  1058, 25988,   855,   787, 34230, 15469,\n",
       "           188, 13269, 11122,  1945,  1916, 57144,  1488,   327, 13152,  7776,\n",
       "         16422,  8143,   673,   496,   339,  3296,   216],\n",
       "        [27709, 18111,  2320,  3294,  3314, 41095,  1729,  3258,  1529, 34376,\n",
       "           519,   662,  2757,  3062,  1347, 14638,  1968,   172,  7656,  9109,\n",
       "          2165,  6449,  2805,  1749,  1342,  3853,   799],\n",
       "        [89092, 31910, 12898, 42167, 31237, 20130,  7161,  9191,  3269,  7704,\n",
       "          1058,  8965, 41316, 20331, 62981,  9787, 11694,  2177, 89493, 49818,\n",
       "         36770,  6074, 12292,  7127, 17049,  5768,  2957],\n",
       "        [ 4920, 10242,   374,   958,   414,  9840,  4735,   375,   248, 18365,\n",
       "           132,   143,  7518,   739,   292, 14816,   484,    32,  6884,  1250,\n",
       "          8767,  4979,   126,   295,   675,  2292,    62],\n",
       "        [15365, 13306,  1136,  1174,   871, 23524,   698,  1991,  5487, 14676,\n",
       "           120,   293,  5360,  1812,  7011, 11963,  1108,    39, 15720,  3504,\n",
       "          1467,  4923,   350,   689,   135,  3195,   253],\n",
       "        [17154, 19696,  1162,  1552,   869, 20102,   793,   531,   462, 15772,\n",
       "           180,   448,  1455,  1737,  2681, 18818,  1181,   333,  3458,  2306,\n",
       "          5712,  5583,   424,   874,   130,  3062,   130],\n",
       "        [21347, 27612,  7153, 40126, 17643, 17056,  9029, 19973,   945,  2344,\n",
       "          2088,  8102, 23831, 20096, 86578, 29514, 10922,  2688, 16125, 37010,\n",
       "         42735,  3636, 14573,  1426,  8457,   631,  7167],\n",
       "        [  893,  4034,   236,   376,   309,  3767,   252,   124,   164,  1243,\n",
       "           208,   380,   243,   347,   437,  4758,   263,    13,   188,   564,\n",
       "           199,  2440,   166,   125,    11,    87,   111],\n",
       "        [21906, 11732,  1168,  1243,   791, 16017,   861,   480,  1275, 10637,\n",
       "           211,  1384,  3050,  1433,  2209,  8607,  1173,    50,  3106,  8233,\n",
       "          3420,  2983,   468,  1139,   160,  2148,   330],\n",
       "        [28717, 37400,  2525,  4101,  7217, 44321,  2734,  1746,   936, 42999,\n",
       "           297,  2538, 22467,  4490,  1066, 29834,  3595,   203,  1150,  7673,\n",
       "         12490, 15400,  2530,  1142,   260,  8733,   624],\n",
       "        [25134, 48374,  5412,  3324,  1710, 40439,  1082,  1200,   659, 20771,\n",
       "           271,   711,  1328,  5693,  1437, 22733, 11537,   131,  1256,  6022,\n",
       "          2256,  6689,   700,   759,   442,  5513,   354],\n",
       "        [45678, 24230,  3186, 15801, 29349, 46124,  6072, 23664,  1804, 25535,\n",
       "          1084,  8957,  3649,  2737,  9377, 22614,  2771,   745,  1750, 25232,\n",
       "         43667,  5236,  4505,  1871,  1030,  3123,  2375],\n",
       "        [48124,  6379, 12604, 17894, 15873,  3876, 12223, 12856,  2140,  6651,\n",
       "          1969,  6728, 28267, 30147, 63053, 22191, 19933,   674, 50973, 23177,\n",
       "         21315, 22234, 11808, 10656,  5832,  2599,  2077],\n",
       "        [17892, 24038,   826,  2601,  1068, 23027,   902,   750,  8769, 14305,\n",
       "           201,   448, 14737,  1942,   826, 18687,  9063,    98, 25427,  7208,\n",
       "          6724,  5605,   481,   654,   207,  1859,   326],\n",
       "        [ 2908,   697,   194,   204,   108,   275,    82,    53,    57,   465,\n",
       "             6,    38,   298,   215,   106,   436,   169,    75,   255,   371,\n",
       "           277, 10331,   110,   262,    29,    60,    24],\n",
       "        [41248, 54409,  5306, 11873,  9799, 65538,  3448,  7938,  1983, 43130,\n",
       "           604, 13284,  5561, 11553,  6201, 49747,  5754,   972,  5514, 18904,\n",
       "         26991, 10391,  5214,  2077,  1315,  7134,  1009],\n",
       "        [98698, 22033,  2488, 14349,  2276, 32462,  2107,  1732, 16152, 30402,\n",
       "           406,  6813,  3852,  8134,  2640, 26148, 17011,  1482,  1501, 15073,\n",
       "         54034, 13072,  1269,  3641,   219,  7942,   347],\n",
       "        [62126, 42880,  2964,  7580,  1815, 74951,  2326,  1710, 17557, 48214,\n",
       "           474,   905,  4468,  3968,  2632, 32679,  3065,   220, 36176, 14487,\n",
       "          8718, 15835,  2457,  4564,   540, 10294,  1605],\n",
       "        [ 6356,  7496,  7792,  6039,  9358,  7853,  1447,  2882,   537,  8306,\n",
       "           326,  2274, 11500, 11513, 17999,  1176,  9854,   180, 25687, 22262,\n",
       "         14397,  1041,  1473,   932,  2320,   937,  1868],\n",
       "        [ 5000, 15486,   369,   823,   449, 32630,   261,   321,   249, 24301,\n",
       "            72,   166,   674,   580,   426,  8057,   545,    27,  1356,  1084,\n",
       "           620,  1031,   607,   137,    79,   761,   117],\n",
       "        [ 4707, 11627,   579,   767,  1128, 16218,   349,   325,  1959, 10126,\n",
       "            72,   333,   957,   654,  1243, 10705,   576,    33,  1141,  2044,\n",
       "           902,   449,   144,   473,    52,   620,   123],\n",
       "        [21182,  2008,   511,  1966,   421,  3343,   383,   321,   287,  4295,\n",
       "            50,   110,   819,   734,   271,  1643,  4104,    67,   312,  1224,\n",
       "          3658,   776,   184,   293,  2575,   784,    92],\n",
       "        [28659,  5318,  2908,  3949,  2257,  3567,  1575,  1517,   867,   976,\n",
       "           223,   781,  3378,  3739,  4813,  5689,  3730,   126,  1999,  9610,\n",
       "          4303,  1055,   659,  1327,   478,   343,   733],\n",
       "        [ 7186,  4885,   371,   494,   328,  7064,   189,   182,   260,  4490,\n",
       "            41,   158,   548,   603,   335,  4123,   359,    30,   251,   377,\n",
       "           569,  1288,   129,   343,    41,  1048,  2878]], device='cuda:0',\n",
       "       dtype=torch.int32)"
      ]
     },
     "execution_count": 52,
     "metadata": {},
     "output_type": "execute_result"
    }
   ],
   "source": [
    "N"
   ]
  },
  {
   "cell_type": "code",
   "execution_count": 53,
   "id": "73343f18",
   "metadata": {},
   "outputs": [
    {
     "name": "stdout",
     "output_type": "stream",
     "text": [
      "kued.\n",
      "wp.\n",
      "stingorsubgomb.\n",
      "masturamsct.\n",
      "mpexotrkafrenerdexenoilu.\n",
      "prmagechindinger.\n",
      "o.\n",
      "dos.\n",
      "crayfilterisosostoudtstette.\n",
      "santsm.\n",
      "mplyatannuponfy.\n",
      "c.\n",
      "deltes.\n",
      "blmind.\n",
      "malana.\n",
      "s.\n",
      "m.\n",
      "c.\n",
      "gers.\n",
      "ckeavene.\n"
     ]
    }
   ],
   "source": [
    "g = torch.Generator(device=device).manual_seed(2147483647)\n",
    "\n",
    "for i in range(20):\n",
    "  ix = 0\n",
    "  out = []\n",
    "  while True:\n",
    "\n",
    "    p = P[ix]\n",
    "\n",
    "    ix = torch.multinomial(p, num_samples=1, replacement=True, generator=g).item()\n",
    "    out.append(itos[ix])\n",
    "    if ix == 0:\n",
    "      break\n",
    "  print(''.join(out))"
   ]
  },
  {
   "cell_type": "code",
   "execution_count": 46,
   "id": "9dfe5640",
   "metadata": {},
   "outputs": [
    {
     "name": "stdout",
     "output_type": "stream",
     "text": [
      ". k : 0.0249 : -3.6919 : -3.6919\n",
      "k u : 0.0281 : -3.5724 : -7.2643\n",
      "u e : 0.0427 : -3.1530 : -10.4173\n",
      "e d : 0.0488 : -3.0205 : -13.4379\n",
      "d . : 0.1401 : -1.9655 : -15.4034\n"
     ]
    }
   ],
   "source": [
    "log_likelihood = 0.0\n",
    "n = 0\n",
    "\n",
    "for c in ['kued']:\n",
    "    chs = ['.'] + list(c) + ['.']\n",
    "    \n",
    "    for ch1, ch2 in zip(chs, chs[1:]):\n",
    "        ix1 = stoi[ch1]\n",
    "        ix2 = stoi[ch2]\n",
    "        N[ix1, ix2] += 1\n",
    "        prob = P[ix1, ix2]\n",
    "        logprob = torch.log(prob)\n",
    "        log_likelihood += logprob\n",
    "        n += 1\n",
    "        print(f'{ch1} {ch2} : {prob:.4f} : {logprob:.4f} : {log_likelihood:.4f}')"
   ]
  },
  {
   "cell_type": "code",
   "execution_count": 48,
   "id": "afebdb7f",
   "metadata": {},
   "outputs": [
    {
     "data": {
      "text/plain": [
       "tensor(3.0807, device='cuda:0')"
      ]
     },
     "execution_count": 48,
     "metadata": {},
     "output_type": "execute_result"
    }
   ],
   "source": [
    "nll = -log_likelihood\n",
    "nll/n"
   ]
  },
  {
   "cell_type": "code",
   "execution_count": 49,
   "id": "cdb1ad31",
   "metadata": {},
   "outputs": [],
   "source": [
    "xs = []\n",
    "ys = []"
   ]
  },
  {
   "cell_type": "code",
   "execution_count": 11,
   "id": "39633656",
   "metadata": {},
   "outputs": [
    {
     "ename": "NameError",
     "evalue": "name 'companies' is not defined",
     "output_type": "error",
     "traceback": [
      "\u001b[1;31m---------------------------------------------------------------------------\u001b[0m",
      "\u001b[1;31mNameError\u001b[0m                                 Traceback (most recent call last)",
      "Cell \u001b[1;32mIn[11], line 1\u001b[0m\n\u001b[1;32m----> 1\u001b[0m \u001b[38;5;28;01mfor\u001b[39;00m c \u001b[38;5;129;01min\u001b[39;00m \u001b[43mcompanies\u001b[49m[:\u001b[38;5;241m1\u001b[39m]:\n\u001b[0;32m      2\u001b[0m     chs \u001b[38;5;241m=\u001b[39m [\u001b[38;5;124m'\u001b[39m\u001b[38;5;124m.\u001b[39m\u001b[38;5;124m'\u001b[39m] \u001b[38;5;241m+\u001b[39m \u001b[38;5;28mlist\u001b[39m(c) \u001b[38;5;241m+\u001b[39m [\u001b[38;5;124m'\u001b[39m\u001b[38;5;124m.\u001b[39m\u001b[38;5;124m'\u001b[39m]\n\u001b[0;32m      4\u001b[0m     \u001b[38;5;28;01mfor\u001b[39;00m ch1, ch2 \u001b[38;5;129;01min\u001b[39;00m \u001b[38;5;28mzip\u001b[39m(chs, chs[\u001b[38;5;241m1\u001b[39m:]):\n",
      "\u001b[1;31mNameError\u001b[0m: name 'companies' is not defined"
     ]
    }
   ],
   "source": [
    "for c in companies[:1]:\n",
    "    chs = ['.'] + list(c) + ['.']\n",
    "\n",
    "    for ch1, ch2 in zip(chs, chs[1:]):\n",
    "        ix1 = stoi[ch1]\n",
    "        ix2 = stoi[ch2]\n",
    "\n",
    "        xs.append(ix1)\n",
    "        ys.append(ix2)\n",
    "xs = torch.tensor(xs).to(device)\n",
    "ys = torch.tensor(ys).to(device)"
   ]
  },
  {
   "cell_type": "code",
   "execution_count": 54,
   "id": "c13f69c8",
   "metadata": {},
   "outputs": [
    {
     "data": {
      "text/plain": [
       "tensor([[1., 0., 0., 0., 0., 0., 0., 0., 0., 0., 0., 0., 0., 0., 0., 0., 0., 0.,\n",
       "         0., 0., 0., 0., 0., 0., 0., 0., 0.],\n",
       "        [0., 0., 0., 0., 0., 0., 0., 0., 0., 1., 0., 0., 0., 0., 0., 0., 0., 0.,\n",
       "         0., 0., 0., 0., 0., 0., 0., 0., 0.],\n",
       "        [0., 0., 1., 0., 0., 0., 0., 0., 0., 0., 0., 0., 0., 0., 0., 0., 0., 0.,\n",
       "         0., 0., 0., 0., 0., 0., 0., 0., 0.],\n",
       "        [0., 0., 0., 0., 0., 0., 0., 0., 0., 0., 0., 0., 0., 1., 0., 0., 0., 0.,\n",
       "         0., 0., 0., 0., 0., 0., 0., 0., 0.]], device='cuda:0')"
      ]
     },
     "execution_count": 54,
     "metadata": {},
     "output_type": "execute_result"
    }
   ],
   "source": [
    "xenc = F.one_hot(xs, num_classes=27).float()"
   ]
  },
  {
   "cell_type": "code",
   "execution_count": 57,
   "id": "c9e8dd3a",
   "metadata": {},
   "outputs": [
    {
     "data": {
      "text/plain": [
       "tensor([[-1.6334, -1.5020,  0.5424, -0.0684, -0.7714, -0.9059, -1.0847,  1.0578,\n",
       "          0.6474, -0.5017, -0.2253, -0.6355, -0.9692,  1.0109, -0.8164, -0.4861,\n",
       "         -0.3888,  0.2530, -0.7587, -1.3482, -1.0147,  0.4977, -0.1788,  0.7779,\n",
       "          1.5528,  0.2492,  1.3121],\n",
       "        [ 0.3653,  0.6433,  2.1455,  0.0173,  0.1377, -1.1649, -0.4289, -1.0201,\n",
       "          0.5782,  1.2906,  0.5696,  0.6741,  1.6338,  1.8709, -0.4921,  0.7787,\n",
       "         -0.8105,  0.5894,  0.7626, -0.6522, -0.5814, -1.5895, -0.9866, -0.0789,\n",
       "          2.1246, -0.5395, -0.2312],\n",
       "        [ 0.7498, -0.6273, -0.0223, -0.1982,  0.0962, -1.1757, -1.9116, -0.1000,\n",
       "          0.3447,  0.2949,  1.0709, -0.8476, -0.4123,  0.6040,  0.5357,  2.0758,\n",
       "          0.5220, -0.0572, -0.3699, -0.4986, -0.5333,  1.5824,  0.8138,  0.1055,\n",
       "         -1.1127, -0.0227, -0.0094],\n",
       "        [-0.3966,  0.7808, -0.7469, -1.3443, -0.8718,  0.4477,  0.4375, -0.3912,\n",
       "          0.6792, -1.1678,  0.2552,  0.0312, -0.4837, -0.5654,  0.2383,  2.3786,\n",
       "          0.6664, -0.3076, -2.1097,  0.0409, -0.9163,  0.3779,  1.4821,  0.0201,\n",
       "          0.7525, -0.5608, -0.1969]], device='cuda:0')"
      ]
     },
     "execution_count": 57,
     "metadata": {},
     "output_type": "execute_result"
    }
   ],
   "source": [
    "w = torch.randn((27, 27)).to(device)\n",
    "logits = xenc @ w"
   ]
  },
  {
   "cell_type": "code",
   "execution_count": 63,
   "id": "4e11538b",
   "metadata": {},
   "outputs": [],
   "source": [
    "counts = logits.exp()\n",
    "prob = counts / counts.sum(1, keepdims=True)"
   ]
  },
  {
   "cell_type": "code",
   "execution_count": null,
   "id": "1660aeda",
   "metadata": {},
   "outputs": [],
   "source": [
    "g = torch.Generator(device=device).manual_seed(2147483647)"
   ]
  },
  {
   "cell_type": "code",
   "execution_count": 68,
   "id": "f5943c1d",
   "metadata": {},
   "outputs": [],
   "source": [
    "W = torch.randn((27, 27), generator=g, requires_grad=True, device=device)"
   ]
  },
  {
   "cell_type": "code",
   "execution_count": 74,
   "id": "5462796b",
   "metadata": {},
   "outputs": [],
   "source": [
    "xenc = F.one_hot(xs, num_classes=27).float()\n",
    "logits = xenc @ W\n",
    "counts = logits.exp()\n",
    "probs = counts / counts.sum(1, keepdims=True)\n",
    "loss = -probs[torch.arange(4), ys].log().mean()"
   ]
  },
  {
   "cell_type": "code",
   "execution_count": 75,
   "id": "b6f17abb",
   "metadata": {},
   "outputs": [
    {
     "data": {
      "text/plain": [
       "torch.Size([4, 27])"
      ]
     },
     "execution_count": 75,
     "metadata": {},
     "output_type": "execute_result"
    }
   ],
   "source": [
    "probs.shape"
   ]
  },
  {
   "cell_type": "code",
   "execution_count": 78,
   "id": "29a4b644",
   "metadata": {},
   "outputs": [
    {
     "name": "stdout",
     "output_type": "stream",
     "text": [
      "--------\n",
      "bigram example 1: .i (indexes 0,9)\n",
      "input to the neural net: 0\n",
      "output probabilities from the neural net: tensor([0.0479, 0.0394, 0.0062, 0.0128, 0.0320, 0.0040, 0.0216, 0.0169, 0.0105,\n",
      "        0.0245, 0.0036, 0.2807, 0.0605, 0.0451, 0.0084, 0.0192, 0.0101, 0.0568,\n",
      "        0.0045, 0.1067, 0.0118, 0.0228, 0.0884, 0.0103, 0.0194, 0.0322, 0.0038],\n",
      "       device='cuda:0', grad_fn=<SelectBackward0>)\n",
      "label (actual next character): 9\n",
      "probability assigned by the net to the the correct character: 0.024479953572154045\n",
      "log likelihood: -3.7099008560180664\n",
      "negative log likelihood: 3.7099008560180664\n",
      "=========\n",
      "average negative log likelihood, i.e. loss = 0.9274752140045166\n",
      "--------\n",
      "bigram example 2: ib (indexes 9,2)\n",
      "input to the neural net: 9\n",
      "output probabilities from the neural net: tensor([0.0213, 0.0641, 0.0166, 0.0174, 0.0061, 0.0173, 0.0036, 0.0010, 0.0687,\n",
      "        0.1070, 0.0658, 0.0278, 0.0299, 0.0148, 0.0621, 0.0219, 0.0123, 0.0100,\n",
      "        0.0336, 0.0088, 0.0356, 0.0241, 0.0800, 0.0110, 0.0175, 0.2086, 0.0129],\n",
      "       device='cuda:0', grad_fn=<SelectBackward0>)\n",
      "label (actual next character): 2\n",
      "probability assigned by the net to the the correct character: 0.016629785299301147\n",
      "log likelihood: -4.096560001373291\n",
      "negative log likelihood: 4.096560001373291\n",
      "=========\n",
      "average negative log likelihood, i.e. loss = 1.9516152143478394\n",
      "--------\n",
      "bigram example 3: bm (indexes 2,13)\n",
      "input to the neural net: 2\n",
      "output probabilities from the neural net: tensor([0.0102, 0.0128, 0.0188, 0.0348, 0.2144, 0.0084, 0.0473, 0.0196, 0.0151,\n",
      "        0.0160, 0.0180, 0.0228, 0.0208, 0.0082, 0.0273, 0.0475, 0.0961, 0.0043,\n",
      "        0.0223, 0.0785, 0.0256, 0.0759, 0.0478, 0.0355, 0.0297, 0.0079, 0.0345],\n",
      "       device='cuda:0', grad_fn=<SelectBackward0>)\n",
      "label (actual next character): 13\n",
      "probability assigned by the net to the the correct character: 0.00815990287810564\n",
      "log likelihood: -4.808523178100586\n",
      "negative log likelihood: 4.808523178100586\n",
      "=========\n",
      "average negative log likelihood, i.e. loss = 3.1537461280822754\n",
      "--------\n",
      "bigram example 4: m. (indexes 13,0)\n",
      "input to the neural net: 13\n",
      "output probabilities from the neural net: tensor([0.0028, 0.0146, 0.0341, 0.0538, 0.0406, 0.0056, 0.0033, 0.0617, 0.0581,\n",
      "        0.0037, 0.0247, 0.0195, 0.1429, 0.0188, 0.0450, 0.0100, 0.0508, 0.0115,\n",
      "        0.1313, 0.0281, 0.0036, 0.0745, 0.0344, 0.0282, 0.0474, 0.0137, 0.0374],\n",
      "       device='cuda:0', grad_fn=<SelectBackward0>)\n",
      "label (actual next character): 0\n",
      "probability assigned by the net to the the correct character: 0.0027563832700252533\n",
      "log likelihood: -5.89383602142334\n",
      "negative log likelihood: 5.89383602142334\n",
      "=========\n",
      "average negative log likelihood, i.e. loss = 4.627204895019531\n"
     ]
    }
   ],
   "source": [
    "nlls = torch.zeros(4)\n",
    "for i in range(4):\n",
    "    x = xs[i].item()\n",
    "    y = ys[i].item()\n",
    "    print('--------')\n",
    "    print(f'bigram example {i+1}: {itos[x]}{itos[y]} (indexes {x},{y})')\n",
    "    print('input to the neural net:', x)\n",
    "    print('output probabilities from the neural net:', probs[i])\n",
    "    print('label (actual next character):', y)\n",
    "    p = probs[i, y]\n",
    "    print('probability assigned by the net to the the correct character:', p.item())\n",
    "    logp = torch.log(p)\n",
    "    print('log likelihood:', logp.item())\n",
    "    nll = -logp\n",
    "    print('negative log likelihood:', nll.item())\n",
    "    nlls[i] = nll\n",
    "\n",
    "    print('=========')\n",
    "    print('average negative log likelihood, i.e. loss =', nlls.mean().item())"
   ]
  },
  {
   "cell_type": "code",
   "execution_count": 82,
   "id": "d3bc28a5",
   "metadata": {},
   "outputs": [],
   "source": [
    "loss = -probs[torch.arange(4), ys].log().mean()"
   ]
  },
  {
   "cell_type": "code",
   "execution_count": 88,
   "id": "86a30dfb",
   "metadata": {},
   "outputs": [],
   "source": [
    "g = torch.Generator().manual_seed(2147483647)\n",
    "W = torch.randn((27, 27), generator=g, requires_grad=True).to(device)"
   ]
  },
  {
   "cell_type": "code",
   "execution_count": 90,
   "id": "15397467",
   "metadata": {},
   "outputs": [],
   "source": [
    "# forward pass\n",
    "xenc = F.one_hot(xs, num_classes=27).float() # input to the network: one-hot encoding\n",
    "logits = xenc @ W # predict log-counts\n",
    "counts = logits.exp() # counts, equivalent to N\n",
    "probs = counts / counts.sum(1, keepdims=True) # probabilities for next character\n",
    "loss = -probs[torch.arange(4), ys].log().mean()"
   ]
  },
  {
   "cell_type": "code",
   "execution_count": 91,
   "id": "0beb865e",
   "metadata": {},
   "outputs": [],
   "source": [
    "# backward pass\n",
    "W.grad = None # set grad to zero\n",
    "loss.backward()"
   ]
  },
  {
   "cell_type": "code",
   "execution_count": 92,
   "id": "01d21629",
   "metadata": {},
   "outputs": [
    {
     "name": "stderr",
     "output_type": "stream",
     "text": [
      "C:\\Users\\Ihor\\AppData\\Local\\Temp\\ipykernel_1668\\1614539626.py:1: UserWarning: The .grad attribute of a Tensor that is not a leaf Tensor is being accessed. Its .grad attribute won't be populated during autograd.backward(). If you indeed want the .grad field to be populated for a non-leaf Tensor, use .retain_grad() on the non-leaf Tensor. If you access the non-leaf Tensor by mistake, make sure you access the leaf Tensor instead. See github.com/pytorch/pytorch/pull/30531 for more informations. (Triggered internally at C:\\cb\\pytorch_1000000000000\\work\\build\\aten\\src\\ATen/core/TensorBody.h:494.)\n",
      "  W.grad\n"
     ]
    }
   ],
   "source": [
    "W.grad"
   ]
  },
  {
   "cell_type": "code",
   "execution_count": 3,
   "id": "56e7a442",
   "metadata": {},
   "outputs": [
    {
     "ename": "NameError",
     "evalue": "name 'W' is not defined",
     "output_type": "error",
     "traceback": [
      "\u001b[1;31m---------------------------------------------------------------------------\u001b[0m",
      "\u001b[1;31mNameError\u001b[0m                                 Traceback (most recent call last)",
      "Cell \u001b[1;32mIn[3], line 1\u001b[0m\n\u001b[1;32m----> 1\u001b[0m \u001b[43mW\u001b[49m\u001b[38;5;241m.\u001b[39mdata \u001b[38;5;241m+\u001b[39m\u001b[38;5;241m=\u001b[39m \u001b[38;5;241m-\u001b[39m\u001b[38;5;241m0.1\u001b[39m \u001b[38;5;241m*\u001b[39m W\u001b[38;5;241m.\u001b[39mgrad\n",
      "\u001b[1;31mNameError\u001b[0m: name 'W' is not defined"
     ]
    }
   ],
   "source": [
    "W.data += -0.1 * W.grad"
   ]
  },
  {
   "cell_type": "code",
   "execution_count": 9,
   "id": "0c41f546",
   "metadata": {},
   "outputs": [],
   "source": [
    "N = torch.zeros((27, 27), dtype=torch.int32).to(device)"
   ]
  },
  {
   "cell_type": "code",
   "execution_count": 15,
   "id": "9a5238e6",
   "metadata": {},
   "outputs": [],
   "source": [
    "chars = sorted(list(set(''.join(companies))))\n",
    "\n",
    "stoi = {s : i + 1 for i, s in enumerate(chars)}\n",
    "stoi['.'] = 0\n",
    "\n",
    "itos = {s : i for i, s in stoi.items()}"
   ]
  },
  {
   "cell_type": "code",
   "execution_count": 19,
   "id": "17d71543",
   "metadata": {},
   "outputs": [],
   "source": [
    "for c in companies:\n",
    "    chs = ['.'] + list(c) + ['.']\n",
    "\n",
    "    for ch1, ch2 in zip(chs, chs[1:]):\n",
    "        ix1 = stoi[ch1]\n",
    "        ix2 = stoi[ch2]\n",
    "\n",
    "        N[ix1, ix2] += 1"
   ]
  },
  {
   "cell_type": "code",
   "execution_count": 20,
   "id": "2842f167",
   "metadata": {},
   "outputs": [
    {
     "data": {
      "text/plain": [
       "tensor([[    0, 60090, 40307, 59166, 32007, 37989, 28739, 25497, 20875, 38716,\n",
       "          9184, 18517, 24671, 50201, 23621, 17535, 43985,  5249, 25351, 72564,\n",
       "         42708, 10164, 20093, 20503,  3184,  5252,  6769],\n",
       "        [67615,  6354, 17526, 30321, 25083,  4035,  9395, 16214,  3239, 15868,\n",
       "          1591,  9443, 52782, 26347, 59994,  1449, 21465,  1858, 68271, 34478,\n",
       "         42600,  9497, 11538,  4276,  5332, 10486,  4888],\n",
       "        [10732, 17242,  2488,  2101,  1035, 19185,   530,   552,   666, 18671,\n",
       "           363,   364, 10580,  1185,   674, 16762,   874,   104, 12745,  4923,\n",
       "          1324,  8501,   450,   476,   180,  2759,   336],\n",
       "        [22589, 34356,   999,  4969,  1058, 25988,   855,   787, 34230, 15469,\n",
       "           188, 13269, 11122,  1945,  1916, 57144,  1488,   327, 13152,  7776,\n",
       "         16422,  8143,   673,   496,   339,  3296,   216],\n",
       "        [27709, 18111,  2320,  3294,  3314, 41095,  1729,  3258,  1529, 34376,\n",
       "           519,   662,  2757,  3062,  1347, 14638,  1968,   172,  7656,  9109,\n",
       "          2165,  6449,  2805,  1749,  1342,  3853,   799],\n",
       "        [89092, 31910, 12898, 42167, 31237, 20130,  7161,  9191,  3269,  7704,\n",
       "          1058,  8965, 41316, 20331, 62981,  9787, 11694,  2177, 89493, 49818,\n",
       "         36770,  6074, 12292,  7127, 17049,  5768,  2957],\n",
       "        [ 4920, 10242,   374,   958,   414,  9840,  4735,   375,   248, 18365,\n",
       "           132,   143,  7518,   739,   292, 14816,   484,    32,  6884,  1250,\n",
       "          8767,  4979,   126,   295,   675,  2292,    62],\n",
       "        [15365, 13306,  1136,  1174,   871, 23524,   698,  1991,  5487, 14676,\n",
       "           120,   293,  5360,  1812,  7011, 11963,  1108,    39, 15720,  3504,\n",
       "          1467,  4923,   350,   689,   135,  3195,   253],\n",
       "        [17154, 19696,  1162,  1552,   869, 20102,   793,   531,   462, 15772,\n",
       "           180,   448,  1455,  1737,  2681, 18818,  1181,   333,  3458,  2306,\n",
       "          5712,  5583,   424,   874,   130,  3062,   130],\n",
       "        [21347, 27612,  7153, 40126, 17643, 17056,  9029, 19973,   945,  2344,\n",
       "          2088,  8102, 23831, 20096, 86578, 29514, 10922,  2688, 16125, 37010,\n",
       "         42735,  3636, 14573,  1426,  8457,   631,  7167],\n",
       "        [  893,  4034,   236,   376,   309,  3767,   252,   124,   164,  1243,\n",
       "           208,   380,   243,   347,   437,  4758,   263,    13,   188,   564,\n",
       "           199,  2440,   166,   125,    11,    87,   111],\n",
       "        [21906, 11732,  1168,  1243,   791, 16017,   861,   480,  1275, 10637,\n",
       "           211,  1384,  3050,  1433,  2209,  8607,  1173,    50,  3106,  8233,\n",
       "          3420,  2983,   468,  1139,   160,  2148,   330],\n",
       "        [28717, 37400,  2525,  4101,  7217, 44321,  2734,  1746,   936, 42999,\n",
       "           297,  2538, 22467,  4490,  1066, 29834,  3595,   203,  1150,  7673,\n",
       "         12490, 15400,  2530,  1142,   260,  8733,   624],\n",
       "        [25134, 48374,  5412,  3324,  1710, 40439,  1082,  1200,   659, 20771,\n",
       "           271,   711,  1328,  5693,  1437, 22733, 11537,   131,  1256,  6022,\n",
       "          2256,  6689,   700,   759,   442,  5513,   354],\n",
       "        [45678, 24230,  3186, 15801, 29349, 46124,  6072, 23664,  1804, 25535,\n",
       "          1084,  8957,  3649,  2737,  9377, 22614,  2771,   745,  1750, 25232,\n",
       "         43667,  5236,  4505,  1871,  1030,  3123,  2375],\n",
       "        [48124,  6379, 12604, 17894, 15873,  3876, 12223, 12856,  2140,  6651,\n",
       "          1969,  6728, 28267, 30147, 63053, 22191, 19933,   674, 50973, 23177,\n",
       "         21315, 22234, 11808, 10656,  5832,  2599,  2077],\n",
       "        [17892, 24038,   826,  2601,  1068, 23027,   902,   750,  8769, 14305,\n",
       "           201,   448, 14737,  1942,   826, 18687,  9063,    98, 25427,  7208,\n",
       "          6724,  5605,   481,   654,   207,  1859,   326],\n",
       "        [ 2908,   697,   194,   204,   108,   275,    82,    53,    57,   465,\n",
       "             6,    38,   298,   215,   106,   436,   169,    75,   255,   371,\n",
       "           277, 10331,   110,   262,    29,    60,    24],\n",
       "        [41248, 54409,  5306, 11873,  9799, 65538,  3448,  7938,  1983, 43130,\n",
       "           604, 13284,  5561, 11553,  6201, 49747,  5754,   972,  5514, 18904,\n",
       "         26991, 10391,  5214,  2077,  1315,  7134,  1009],\n",
       "        [98698, 22033,  2488, 14349,  2276, 32462,  2107,  1732, 16152, 30402,\n",
       "           406,  6813,  3852,  8134,  2640, 26148, 17011,  1482,  1501, 15073,\n",
       "         54034, 13072,  1269,  3641,   219,  7942,   347],\n",
       "        [62126, 42880,  2964,  7580,  1815, 74951,  2326,  1710, 17557, 48214,\n",
       "           474,   905,  4468,  3968,  2632, 32679,  3065,   220, 36176, 14487,\n",
       "          8718, 15835,  2457,  4564,   540, 10294,  1605],\n",
       "        [ 6356,  7496,  7792,  6039,  9358,  7853,  1447,  2882,   537,  8306,\n",
       "           326,  2274, 11500, 11513, 17999,  1176,  9854,   180, 25687, 22262,\n",
       "         14397,  1041,  1473,   932,  2320,   937,  1868],\n",
       "        [ 5000, 15486,   369,   823,   449, 32630,   261,   321,   249, 24301,\n",
       "            72,   166,   674,   580,   426,  8057,   545,    27,  1356,  1084,\n",
       "           620,  1031,   607,   137,    79,   761,   117],\n",
       "        [ 4707, 11627,   579,   767,  1128, 16218,   349,   325,  1959, 10126,\n",
       "            72,   333,   957,   654,  1243, 10705,   576,    33,  1141,  2044,\n",
       "           902,   449,   144,   473,    52,   620,   123],\n",
       "        [21182,  2008,   511,  1966,   421,  3343,   383,   321,   287,  4295,\n",
       "            50,   110,   819,   734,   271,  1643,  4104,    67,   312,  1224,\n",
       "          3658,   776,   184,   293,  2575,   784,    92],\n",
       "        [28659,  5318,  2908,  3949,  2257,  3567,  1575,  1517,   867,   976,\n",
       "           223,   781,  3378,  3739,  4813,  5689,  3730,   126,  1999,  9610,\n",
       "          4303,  1055,   659,  1327,   478,   343,   733],\n",
       "        [ 7186,  4885,   371,   494,   328,  7064,   189,   182,   260,  4490,\n",
       "            41,   158,   548,   603,   335,  4123,   359,    30,   251,   377,\n",
       "           569,  1288,   129,   343,    41,  1048,  2878]], device='cuda:0',\n",
       "       dtype=torch.int32)"
      ]
     },
     "execution_count": 20,
     "metadata": {},
     "output_type": "execute_result"
    }
   ],
   "source": [
    "N"
   ]
  },
  {
   "cell_type": "code",
   "execution_count": 26,
   "id": "541d8376",
   "metadata": {},
   "outputs": [
    {
     "data": {
      "text/plain": [
       "tensor([0.0000, 0.0809, 0.0543, 0.0796, 0.0431, 0.0511, 0.0387, 0.0343, 0.0281,\n",
       "        0.0521, 0.0124, 0.0249, 0.0332, 0.0676, 0.0318, 0.0236, 0.0592, 0.0071,\n",
       "        0.0341, 0.0977, 0.0575, 0.0137, 0.0270, 0.0276, 0.0043, 0.0071, 0.0091],\n",
       "       device='cuda:0')"
      ]
     },
     "execution_count": 26,
     "metadata": {},
     "output_type": "execute_result"
    }
   ],
   "source": [
    "p = N[0].float()\n",
    "P = p / p.sum()"
   ]
  },
  {
   "cell_type": "code",
   "execution_count": 48,
   "id": "b624a747",
   "metadata": {},
   "outputs": [
    {
     "data": {
      "text/plain": [
       "11"
      ]
     },
     "execution_count": 48,
     "metadata": {},
     "output_type": "execute_result"
    }
   ],
   "source": [
    "g = torch.Generator(device=device).manual_seed(2147483647)\n",
    "ix = torch.multinomial(p, num_samples=1, replacement=True, generator=g).item()\n",
    "ix"
   ]
  },
  {
   "cell_type": "code",
   "execution_count": 2,
   "id": "550db5b8",
   "metadata": {},
   "outputs": [
    {
     "ename": "NameError",
     "evalue": "name 'companies' is not defined",
     "output_type": "error",
     "traceback": [
      "\u001b[1;31m---------------------------------------------------------------------------\u001b[0m",
      "\u001b[1;31mNameError\u001b[0m                                 Traceback (most recent call last)",
      "Cell \u001b[1;32mIn[2], line 1\u001b[0m\n\u001b[1;32m----> 1\u001b[0m chars \u001b[38;5;241m=\u001b[39m \u001b[38;5;28msorted\u001b[39m(\u001b[38;5;28mlist\u001b[39m(\u001b[38;5;28mset\u001b[39m(\u001b[38;5;124m'\u001b[39m\u001b[38;5;124m'\u001b[39m\u001b[38;5;241m.\u001b[39mjoin(\u001b[43mcompanies\u001b[49m))))\n\u001b[0;32m      3\u001b[0m stoi \u001b[38;5;241m=\u001b[39m {s : i \u001b[38;5;241m+\u001b[39m \u001b[38;5;241m1\u001b[39m \u001b[38;5;28;01mfor\u001b[39;00m i, s \u001b[38;5;129;01min\u001b[39;00m \u001b[38;5;28menumerate\u001b[39m(chars)}\n\u001b[0;32m      4\u001b[0m stoi[\u001b[38;5;124m'\u001b[39m\u001b[38;5;124m.\u001b[39m\u001b[38;5;124m'\u001b[39m] \u001b[38;5;241m=\u001b[39m \u001b[38;5;241m0\u001b[39m\n",
      "\u001b[1;31mNameError\u001b[0m: name 'companies' is not defined"
     ]
    }
   ],
   "source": [
    "chars = sorted(list(set(''.join(companies))))\n",
    "\n",
    "stoi = {s : i + 1 for i, s in enumerate(chars)}\n",
    "stoi['.'] = 0\n",
    "\n",
    "\n",
    "itos = {i:s for s, i in stoi.items()}"
   ]
  }
 ],
 "metadata": {
  "kernelspec": {
   "display_name": "Python (makemore)",
   "language": "python",
   "name": "makemore"
  },
  "language_info": {
   "codemirror_mode": {
    "name": "ipython",
    "version": 3
   },
   "file_extension": ".py",
   "mimetype": "text/x-python",
   "name": "python",
   "nbconvert_exporter": "python",
   "pygments_lexer": "ipython3",
   "version": "3.12.8"
  }
 },
 "nbformat": 4,
 "nbformat_minor": 5
}
