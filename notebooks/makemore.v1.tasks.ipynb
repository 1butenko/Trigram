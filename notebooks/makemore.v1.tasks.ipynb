{
 "cells": [
  {
   "cell_type": "code",
   "execution_count": 110,
   "metadata": {},
   "outputs": [],
   "source": [
    "import torch\n",
    "import regex as re\n",
    "import pandas as pd\n",
    "import torch.nn.functional as F"
   ]
  },
  {
   "cell_type": "code",
   "execution_count": 2,
   "metadata": {},
   "outputs": [],
   "source": [
    "device = 'cuda' if torch.cuda.is_available() else 'cpu'"
   ]
  },
  {
   "cell_type": "code",
   "execution_count": 3,
   "metadata": {},
   "outputs": [],
   "source": [
    "companies = pd.read_csv('../data/companies_sorted.csv')"
   ]
  },
  {
   "cell_type": "code",
   "execution_count": 4,
   "metadata": {},
   "outputs": [],
   "source": [
    "companies = companies['name'].astype(str).tolist()"
   ]
  },
  {
   "cell_type": "code",
   "execution_count": 5,
   "metadata": {},
   "outputs": [],
   "source": [
    "companies = [company.strip() for company in companies if re.fullmatch(r\"[A-Za-z]+\", company) and company.upper() == company.strip().upper()]"
   ]
  },
  {
   "cell_type": "code",
   "execution_count": 183,
   "metadata": {},
   "outputs": [
    {
     "data": {
      "text/plain": [
       "{1: 'a',\n",
       " 2: 'b',\n",
       " 3: 'c',\n",
       " 4: 'd',\n",
       " 5: 'e',\n",
       " 6: 'f',\n",
       " 7: 'g',\n",
       " 8: 'h',\n",
       " 9: 'i',\n",
       " 10: 'j',\n",
       " 11: 'k',\n",
       " 12: 'l',\n",
       " 13: 'm',\n",
       " 14: 'n',\n",
       " 15: 'o',\n",
       " 16: 'p',\n",
       " 17: 'q',\n",
       " 18: 'r',\n",
       " 19: 's',\n",
       " 20: 't',\n",
       " 21: 'u',\n",
       " 22: 'v',\n",
       " 23: 'w',\n",
       " 24: 'x',\n",
       " 25: 'y',\n",
       " 26: 'z',\n",
       " 0: '.'}"
      ]
     },
     "execution_count": 183,
     "metadata": {},
     "output_type": "execute_result"
    }
   ],
   "source": [
    "chars = sorted(list(set(''.join(companies))))\n",
    "\n",
    "stoi = {s : i + 1 for i, s in enumerate(chars)}\n",
    "stoi['.'] = 0\n",
    "\n",
    "itos = {i : s for s, i in stoi.items()}\n",
    "itos"
   ]
  },
  {
   "cell_type": "code",
   "execution_count": 176,
   "metadata": {},
   "outputs": [
    {
     "data": {
      "text/plain": [
       "tensor([[ 0,  9,  2],\n",
       "        [ 9,  2, 13]], device='cuda:0')"
      ]
     },
     "execution_count": 176,
     "metadata": {},
     "output_type": "execute_result"
    }
   ],
   "source": [
    "y = []\n",
    "\n",
    "x1 = []\n",
    "x2 = []\n",
    "\n",
    "for c in companies[:1]:\n",
    "    chs = ['.'] + list(c) + ['.']\n",
    "\n",
    "    for ch1, ch2, ch3 in zip(chs, chs[1:], chs[2:]):\n",
    "        x1.append(stoi[ch1])\n",
    "        x2.append(stoi[ch2])\n",
    "        y.append(stoi[ch3])\n",
    "\n",
    "    ys = torch.tensor(y, device=device)\n",
    "    xs = torch.tensor([x1, x2], device=device)\n",
    "xs"
   ]
  },
  {
   "cell_type": "code",
   "execution_count": 149,
   "metadata": {},
   "outputs": [
    {
     "data": {
      "text/plain": [
       "torch.float32"
      ]
     },
     "execution_count": 149,
     "metadata": {},
     "output_type": "execute_result"
    }
   ],
   "source": [
    "xenc = F.one_hot(xs, num_classes=27).float()"
   ]
  },
  {
   "cell_type": "code",
   "execution_count": 153,
   "metadata": {},
   "outputs": [
    {
     "data": {
      "text/plain": [
       "tensor([[[6.3230, 0.3025, 1.5145, 0.2996, 0.5761, 3.9805, 1.7802, 0.4012,\n",
       "          0.7776, 8.0515, 1.2029, 5.8152, 0.1999, 7.4423, 4.8505, 0.2606,\n",
       "          5.1233, 0.4207, 2.3382, 0.3097, 0.9456, 0.3879, 1.8265, 1.0321,\n",
       "          0.4022, 1.1144, 0.6613],\n",
       "         [1.2921, 0.5765, 0.4512, 3.8871, 3.4877, 0.4505, 0.5398, 0.2585,\n",
       "          0.3904, 0.3766, 0.8051, 3.5401, 1.2068, 0.9624, 1.4292, 2.2164,\n",
       "          0.2303, 0.9447, 1.2192, 3.2848, 0.7083, 0.5359, 0.2654, 2.0968,\n",
       "          0.6276, 0.1892, 0.6712],\n",
       "         [0.6131, 0.3356, 3.9434, 1.3780, 0.8658, 0.9150, 1.2833, 1.3753,\n",
       "          1.7285, 0.3634, 1.9674, 2.7662, 6.3548, 0.2687, 0.5012, 0.3793,\n",
       "          0.9430, 0.1818, 1.1011, 0.5452, 0.5053, 2.1875, 0.9479, 0.2647,\n",
       "          2.0147, 1.5147, 5.0682]],\n",
       "\n",
       "        [[1.2921, 0.5765, 0.4512, 3.8871, 3.4877, 0.4505, 0.5398, 0.2585,\n",
       "          0.3904, 0.3766, 0.8051, 3.5401, 1.2068, 0.9624, 1.4292, 2.2164,\n",
       "          0.2303, 0.9447, 1.2192, 3.2848, 0.7083, 0.5359, 0.2654, 2.0968,\n",
       "          0.6276, 0.1892, 0.6712],\n",
       "         [0.6131, 0.3356, 3.9434, 1.3780, 0.8658, 0.9150, 1.2833, 1.3753,\n",
       "          1.7285, 0.3634, 1.9674, 2.7662, 6.3548, 0.2687, 0.5012, 0.3793,\n",
       "          0.9430, 0.1818, 1.1011, 0.5452, 0.5053, 2.1875, 0.9479, 0.2647,\n",
       "          2.0147, 1.5147, 5.0682],\n",
       "         [6.0441, 2.8180, 4.2938, 4.4599, 0.4345, 1.2229, 0.8587, 2.7258,\n",
       "          1.1196, 1.1898, 0.8644, 0.9734, 0.8989, 0.4852, 0.9859, 0.6597,\n",
       "          0.8269, 1.2175, 0.4291, 0.9596, 1.0012, 2.3923, 0.5013, 2.4747,\n",
       "          1.2310, 0.4838, 1.4970]]], device='cuda:0')"
      ]
     },
     "execution_count": 153,
     "metadata": {},
     "output_type": "execute_result"
    }
   ],
   "source": [
    "w = torch.randn((27, 27), device=device)"
   ]
  },
  {
   "cell_type": "code",
   "execution_count": 159,
   "metadata": {},
   "outputs": [
    {
     "data": {
      "text/plain": [
       "torch.Size([2, 3, 27])"
      ]
     },
     "execution_count": 159,
     "metadata": {},
     "output_type": "execute_result"
    }
   ],
   "source": [
    "logits = (xenc @ w)\n",
    "counts = logits.exp()\n",
    "probs = counts / counts.sum(1, keepdim=True)\n",
    "\n",
    "probs.shape"
   ]
  },
  {
   "cell_type": "code",
   "execution_count": 184,
   "metadata": {},
   "outputs": [
    {
     "data": {
      "text/plain": [
       "torch.Size([2, 3, 27])"
      ]
     },
     "execution_count": 184,
     "metadata": {},
     "output_type": "execute_result"
    }
   ],
   "source": [
    "probs.shape"
   ]
  },
  {
   "cell_type": "code",
   "execution_count": null,
   "metadata": {},
   "outputs": [],
   "source": []
  }
 ],
 "metadata": {
  "kernelspec": {
   "display_name": "Python (makemore)",
   "language": "python",
   "name": "makemore"
  },
  "language_info": {
   "codemirror_mode": {
    "name": "ipython",
    "version": 3
   },
   "file_extension": ".py",
   "mimetype": "text/x-python",
   "name": "python",
   "nbconvert_exporter": "python",
   "pygments_lexer": "ipython3",
   "version": "3.12.8"
  }
 },
 "nbformat": 4,
 "nbformat_minor": 2
}
